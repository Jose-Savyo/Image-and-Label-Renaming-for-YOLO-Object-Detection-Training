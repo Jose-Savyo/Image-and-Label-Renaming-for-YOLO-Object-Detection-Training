{
 "cells": [
  {
   "cell_type": "code",
   "execution_count": 1,
   "metadata": {},
   "outputs": [],
   "source": [
    "import os"
   ]
  },
  {
   "cell_type": "markdown",
   "metadata": {},
   "source": [
    "Criando lista com o nome das imagens"
   ]
  },
  {
   "cell_type": "code",
   "execution_count": 2,
   "metadata": {},
   "outputs": [
    {
     "name": "stdout",
     "output_type": "stream",
     "text": [
      "Lista de nomes das imagens:\n",
      "m15 (17).jpg\n",
      "m15 (18).jpg\n",
      "m15 (19).jpg\n",
      "m15 (20).jpg\n",
      "m15 (21).jpg\n",
      "m15 (22).jpg\n",
      "m15 (23).jpg\n",
      "m15 (24).jpg\n",
      "m15 (25).jpg\n",
      "m15 (26).jpg\n",
      "m15 (27).jpg\n",
      "m15 (28).jpg\n",
      "m15 (29).jpg\n",
      "m15 (30).jpg\n",
      "m15 (31).jpg\n",
      "m15 (32).jpg\n",
      "m15 (33).jpg\n",
      "m15 (34).jpg\n",
      "m15 (35).jpg\n",
      "m15 (36).jpg\n",
      "m15 (37).jpg\n",
      "m15 (38).jpg\n",
      "m15 (39).jpg\n",
      "m15 (40).jpg\n",
      "m15 (41).jpg\n",
      "m15 (42).jpg\n",
      "m15 (43).jpg\n",
      "m15 (44).jpg\n",
      "QUATRO (1).jpg\n",
      "QUATRO (10).jpg\n",
      "QUATRO (11).jpg\n",
      "QUATRO (12).jpg\n",
      "QUATRO (13).jpg\n",
      "QUATRO (14).jpg\n",
      "QUATRO (15).jpg\n",
      "QUATRO (16).jpg\n",
      "QUATRO (17).jpg\n",
      "QUATRO (18).jpg\n",
      "QUATRO (19).jpg\n",
      "QUATRO (2).jpg\n",
      "QUATRO (20).jpg\n",
      "QUATRO (21).jpg\n",
      "QUATRO (22).jpg\n",
      "QUATRO (23).jpg\n",
      "QUATRO (24).jpg\n",
      "QUATRO (25).jpg\n",
      "QUATRO (26).jpg\n",
      "QUATRO (27).jpg\n",
      "QUATRO (28).jpg\n",
      "QUATRO (29).jpg\n",
      "QUATRO (3).jpg\n",
      "QUATRO (30).jpg\n",
      "QUATRO (31).jpg\n",
      "QUATRO (32).jpg\n",
      "QUATRO (33).jpg\n",
      "QUATRO (34).jpg\n",
      "QUATRO (35).jpg\n",
      "QUATRO (36).jpg\n",
      "QUATRO (37).jpg\n",
      "QUATRO (38).jpg\n",
      "QUATRO (39).jpg\n",
      "QUATRO (4).jpg\n",
      "QUATRO (40).jpg\n",
      "QUATRO (41).jpg\n",
      "QUATRO (42).jpg\n",
      "QUATRO (43).jpg\n",
      "QUATRO (44).jpg\n",
      "QUATRO (45).jpg\n",
      "QUATRO (46).jpg\n",
      "QUATRO (47).jpg\n",
      "QUATRO (48).jpg\n",
      "QUATRO (49).jpg\n",
      "QUATRO (5).jpg\n",
      "QUATRO (50).jpg\n",
      "QUATRO (51).jpg\n",
      "QUATRO (52).jpg\n",
      "QUATRO (53).jpg\n",
      "QUATRO (54).jpg\n",
      "QUATRO (6).jpg\n",
      "QUATRO (7).jpg\n",
      "QUATRO (8).jpg\n",
      "QUATRO (9).jpg\n"
     ]
    }
   ],
   "source": [
    "folder_path = 'test/images'\n",
    "\n",
    "files = os.listdir(folder_path)\n",
    "\n",
    "print(\"Lista de nomes das imagens:\")\n",
    "for file in files:\n",
    "    print(file)\n",
    "\n",
    "image_names_list = files"
   ]
  },
  {
   "cell_type": "markdown",
   "metadata": {},
   "source": [
    "Removendo a extensão do arquivo dos nomes da lista"
   ]
  },
  {
   "cell_type": "code",
   "execution_count": 3,
   "metadata": {},
   "outputs": [
    {
     "name": "stdout",
     "output_type": "stream",
     "text": [
      "['m15 (17)', 'm15 (18)', 'm15 (19)', 'm15 (20)', 'm15 (21)', 'm15 (22)', 'm15 (23)', 'm15 (24)', 'm15 (25)', 'm15 (26)', 'm15 (27)', 'm15 (28)', 'm15 (29)', 'm15 (30)', 'm15 (31)', 'm15 (32)', 'm15 (33)', 'm15 (34)', 'm15 (35)', 'm15 (36)', 'm15 (37)', 'm15 (38)', 'm15 (39)', 'm15 (40)', 'm15 (41)', 'm15 (42)', 'm15 (43)', 'm15 (44)', 'QUATRO (1)', 'QUATRO (10)', 'QUATRO (11)', 'QUATRO (12)', 'QUATRO (13)', 'QUATRO (14)', 'QUATRO (15)', 'QUATRO (16)', 'QUATRO (17)', 'QUATRO (18)', 'QUATRO (19)', 'QUATRO (2)', 'QUATRO (20)', 'QUATRO (21)', 'QUATRO (22)', 'QUATRO (23)', 'QUATRO (24)', 'QUATRO (25)', 'QUATRO (26)', 'QUATRO (27)', 'QUATRO (28)', 'QUATRO (29)', 'QUATRO (3)', 'QUATRO (30)', 'QUATRO (31)', 'QUATRO (32)', 'QUATRO (33)', 'QUATRO (34)', 'QUATRO (35)', 'QUATRO (36)', 'QUATRO (37)', 'QUATRO (38)', 'QUATRO (39)', 'QUATRO (4)', 'QUATRO (40)', 'QUATRO (41)', 'QUATRO (42)', 'QUATRO (43)', 'QUATRO (44)', 'QUATRO (45)', 'QUATRO (46)', 'QUATRO (47)', 'QUATRO (48)', 'QUATRO (49)', 'QUATRO (5)', 'QUATRO (50)', 'QUATRO (51)', 'QUATRO (52)', 'QUATRO (53)', 'QUATRO (54)', 'QUATRO (6)', 'QUATRO (7)', 'QUATRO (8)', 'QUATRO (9)']\n"
     ]
    }
   ],
   "source": [
    "names = []\n",
    "for name in image_names_list:\n",
    "    names.append(name.strip('.jpg'))\n",
    "\n",
    "print(names)"
   ]
  },
  {
   "cell_type": "markdown",
   "metadata": {},
   "source": [
    "Renomeando as imagens e suas respectivas labels"
   ]
  },
  {
   "cell_type": "code",
   "execution_count": null,
   "metadata": {},
   "outputs": [],
   "source": [
    "folder_images = 'test/images copy'\n",
    "folder_labels = 'test/labels copy'\n",
    "\n",
    "images = os.listdir(folder_images)\n",
    "labels = os.listdir(folder_labels)\n",
    "\n",
    "for index, image in enumerate(images):\n",
    "    # Defina o novo nome da imagem\n",
    "    new_name_image = f'O_{index + 1}.jpg'  # ou qualquer outro padrão de nome desejado\n",
    "    new_name_label = f'O_{index + 1}.txt'\n",
    "\n",
    "    old_path_image = os.path.join(folder_images, image)\n",
    "    new_path_image = os.path.join(folder_images, new_name_image)\n",
    "\n",
    "    old_path_label = os.path.join(folder_labels, image.strip('.jpg')+'.txt')\n",
    "    new_path_label = os.path.join(folder_labels, new_name_label)\n",
    "    \n",
    "    # renomear a imagem\n",
    "    os.rename(old_path_image, new_path_image)\n",
    "    print(f'Renamed {image} to {new_name_image}')\n",
    "\n",
    "    # renomear labels\n",
    "    os.rename(old_path_label, new_path_label)\n",
    "    print(f'Renamed {image.strip('.jpg')+'.txt'} to {new_name_label}')"
   ]
  }
 ],
 "metadata": {
  "kernelspec": {
   "display_name": "Python 3",
   "language": "python",
   "name": "python3"
  },
  "language_info": {
   "codemirror_mode": {
    "name": "ipython",
    "version": 3
   },
   "file_extension": ".py",
   "mimetype": "text/x-python",
   "name": "python",
   "nbconvert_exporter": "python",
   "pygments_lexer": "ipython3",
   "version": "3.12.4"
  }
 },
 "nbformat": 4,
 "nbformat_minor": 2
}
